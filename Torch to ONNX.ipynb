{
 "cells": [
  {
   "attachments": {},
   "cell_type": "markdown",
   "metadata": {},
   "source": [
    "# Convert Trained PyTorch Model to ONNX"
   ]
  },
  {
   "cell_type": "code",
   "execution_count": 1,
   "metadata": {},
   "outputs": [
    {
     "ename": "ModuleNotFoundError",
     "evalue": "No module named 'imageio'",
     "output_type": "error",
     "traceback": [
      "\u001b[0;31m---------------------------------------------------------------------------\u001b[0m",
      "\u001b[0;31mModuleNotFoundError\u001b[0m                       Traceback (most recent call last)",
      "Cell \u001b[0;32mIn[1], line 2\u001b[0m\n\u001b[1;32m      1\u001b[0m \u001b[38;5;28;01mimport\u001b[39;00m \u001b[38;5;21;01mnumpy\u001b[39;00m \u001b[38;5;28;01mas\u001b[39;00m \u001b[38;5;21;01mnp\u001b[39;00m\n\u001b[0;32m----> 2\u001b[0m \u001b[38;5;28;01mimport\u001b[39;00m \u001b[38;5;21;01mimageio\u001b[39;00m\n\u001b[1;32m      3\u001b[0m \u001b[38;5;28;01mimport\u001b[39;00m \u001b[38;5;21;01mmatplotlib\u001b[39;00m\u001b[38;5;21;01m.\u001b[39;00m\u001b[38;5;21;01mpyplot\u001b[39;00m \u001b[38;5;28;01mas\u001b[39;00m \u001b[38;5;21;01mplt\u001b[39;00m\n\u001b[1;32m      5\u001b[0m \u001b[38;5;28;01mimport\u001b[39;00m \u001b[38;5;21;01mtorch\u001b[39;00m\n",
      "\u001b[0;31mModuleNotFoundError\u001b[0m: No module named 'imageio'"
     ]
    }
   ],
   "source": [
    "import numpy as np\n",
    "import imageio\n",
    "import matplotlib.pyplot as plt\n",
    "\n",
    "import torch\n",
    "import torch.nn as nn\n",
    "import torch.optim as optim\n",
    "import torch.nn.functional as F\n",
    "import torch.onnx\n",
    "import onnx\n",
    "\n",
    "from lib.utils_vis import SamplePool, to_alpha, to_rgb, get_living_mask, make_seed, make_circle_masks, make_circle_masks_position_controlled"
   ]
  },
  {
   "cell_type": "code",
   "execution_count": 10,
   "metadata": {},
   "outputs": [],
   "source": [
    "def load_emoji(index, path=\"data/emoji.png\"):\n",
    "    im = imageio.imread(path)\n",
    "    print(im.shape)\n",
    "    emoji = np.array(im[:, index*40:(index+1)*40].astype(np.float32))\n",
    "    emoji /= 255.0\n",
    "    return emoji\n",
    "\n",
    "def load_mons_image(path):\n",
    "    im = imageio.imread(path)\n",
    "    emoji = np.array(im.astype(np.float32))\n",
    "    emoji /= 255.0\n",
    "    return emoji"
   ]
  },
  {
   "cell_type": "code",
   "execution_count": 11,
   "metadata": {},
   "outputs": [],
   "source": [
    "class CAModel_onnx(nn.Module):\n",
    "    def __init__(self, channel_n, fire_rate, device, hidden_size=128):\n",
    "        super(CAModel_onnx, self).__init__()\n",
    "\n",
    "        self.device = device\n",
    "        self.channel_n = channel_n\n",
    "\n",
    "        self.fc0 = nn.Linear(channel_n*3, hidden_size)\n",
    "        self.fc1 = nn.Linear(hidden_size, channel_n, bias=False)\n",
    "        with torch.no_grad():\n",
    "            self.fc1.weight.zero_()\n",
    "\n",
    "        self.fire_rate = fire_rate\n",
    "        self.to(self.device)\n",
    "\n",
    "    def alive(self, x):\n",
    "        return F.max_pool2d(x[:, 3:4, :, :], kernel_size=3, stride=1, padding=1) > 0.1\n",
    "        # return onnx.MaxUnpool2d(x[:, 3:4, :, :], kernel_size=3, stride=1, padding=1) > 0.1\n",
    "\n",
    "    def perceive(self, x, angle):\n",
    "\n",
    "        def _perceive_with(x, weight):\n",
    "            conv_weights = torch.from_numpy(np.asarray(weight).astype(np.float32)).to(self.device)\n",
    "            # conv_weights = torch.from_numpy(weight.astype(np.float32)).to(self.device)\n",
    "            conv_weights = conv_weights.view(1,1,3,3).repeat(self.channel_n, 1, 1, 1)\n",
    "            return F.conv2d(x, conv_weights, padding=1, groups=self.channel_n)\n",
    "\n",
    "        dx = np.outer([1, 2, 1], [-1, 0, 1]) / 8.0  # Sobel filter\n",
    "        dy = dx.T\n",
    "        c = np.cos(angle*np.pi/180)\n",
    "        s = np.sin(angle*np.pi/180)\n",
    "        w1 = c*dx-s*dy\n",
    "        w2 = s*dx+c*dy\n",
    "\n",
    "        y1 = _perceive_with(x, w1)\n",
    "        y2 = _perceive_with(x, w2)\n",
    "        y = torch.cat((x,y1,y2),1)\n",
    "        return y\n",
    "\n",
    "    def update(self, x, fire_rate, angle):\n",
    "        x = x.transpose(1,3)\n",
    "        pre_life_mask = self.alive(x)\n",
    "\n",
    "        dx = self.perceive(x, angle)\n",
    "        dx = dx.transpose(1,3)\n",
    "        dx = self.fc0(dx)\n",
    "        dx = F.relu(dx)\n",
    "        dx = self.fc1(dx)\n",
    "\n",
    "        if fire_rate is None:\n",
    "            fire_rate=self.fire_rate\n",
    "        stochastic = torch.rand([dx.size(0),dx.size(1),dx.size(2),1])>fire_rate\n",
    "        stochastic = stochastic.float().to(self.device)\n",
    "        dx = dx * stochastic\n",
    "\n",
    "        x = x+dx.transpose(1,3)\n",
    "\n",
    "        post_life_mask = self.alive(x)\n",
    "        life_mask = (pre_life_mask & post_life_mask).float()\n",
    "        x = x * life_mask\n",
    "        return x.transpose(1,3)\n",
    "\n",
    "    def forward(self, x, steps=1, fire_rate=None, angle=0.0):\n",
    "        for step in range(steps):\n",
    "            x = self.update(x, fire_rate, angle)\n",
    "        return x"
   ]
  },
  {
   "cell_type": "code",
   "execution_count": 12,
   "metadata": {},
   "outputs": [
    {
     "data": {
      "text/plain": [
       "<All keys matched successfully>"
      ]
     },
     "execution_count": 12,
     "metadata": {},
     "output_type": "execute_result"
    }
   ],
   "source": [
    "device: str = torch.device(\"cpu\")\n",
    "model_path: str = \"models/remaster_1.pth\"\n",
    "save_model_path: str = \"models/test_001.pth\"\n",
    "\n",
    "CHANNEL_N = 16        # Number of CA state channels\n",
    "TARGET_PADDING = 16   # Number of pixels used to pad the target image border\n",
    "TARGET_SIZE = 40\n",
    "\n",
    "lr = 2e-3\n",
    "lr_gamma = 0.9999\n",
    "betas = (0.5, 0.5)\n",
    "n_epoch = 80000\n",
    "\n",
    "BATCH_SIZE = 8\n",
    "POOL_SIZE = 1024\n",
    "CELL_FIRE_RATE = 0.5\n",
    "\n",
    "TARGET_EMOJI_PATH = \"data/emoji.png\"\n",
    "TARGET_EMOJI = 0 #@param \"🦎\"\n",
    "\n",
    "EXPERIMENT_TYPE = \"Regenerating\"\n",
    "EXPERIMENT_MAP = {\"Growing\":0, \"Persistent\":1, \"Regenerating\":2}\n",
    "EXPERIMENT_N = EXPERIMENT_MAP[EXPERIMENT_TYPE]\n",
    "\n",
    "USE_PATTERN_POOL = [0, 1, 1][EXPERIMENT_N]\n",
    "DAMAGE_N = [0, 0, 3][EXPERIMENT_N]  # Number of patterns to damage in a batch\n",
    "\n",
    "model = CAModel_onnx(CHANNEL_N, CELL_FIRE_RATE, \"cpu\").to(\"cpu\")\n",
    "model.load_state_dict(torch.load(model_path, map_location=torch.device(\"cpu\")))"
   ]
  },
  {
   "attachments": {},
   "cell_type": "markdown",
   "metadata": {},
   "source": [
    "## Show target emoji"
   ]
  },
  {
   "cell_type": "code",
   "execution_count": 15,
   "metadata": {},
   "outputs": [
    {
     "name": "stdout",
     "output_type": "stream",
     "text": [
      "(40, 400, 4)\n"
     ]
    },
    {
     "name": "stderr",
     "output_type": "stream",
     "text": [
      "/var/folders/tm/86wgj2997xndj59gns7sx12m0000gn/T/ipykernel_55247/3690617137.py:2: DeprecationWarning: Starting with ImageIO v3 the behavior of this function will switch to that of iio.v3.imread. To keep the current behavior (and make this warning disappear) use `import imageio.v2 as imageio` or call `imageio.v2.imread` directly.\n",
      "  im = imageio.imread(path)\n"
     ]
    },
    {
     "data": {
      "image/png": "[encoded data removed]",
      "text/plain": [
       "<Figure size 400x400 with 1 Axes>"
      ]
     },
     "metadata": {},
     "output_type": "display_data"
    }
   ],
   "source": [
    "target_img = load_emoji(TARGET_EMOJI)\n",
    "plt.figure(figsize=(4,4))\n",
    "plt.imshow(to_rgb(target_img))\n",
    "plt.show()"
   ]
  },
  {
   "cell_type": "code",
   "execution_count": null,
   "metadata": {},
   "outputs": [],
   "source": [
    "p = TARGET_PADDING\n",
    "pad_target = np.pad(target_img, [(p, p), (p, p), (0, 0)])\n",
    "h, w = pad_target.shape[:2]\n",
    "seed = make_seed((h, w), CHANNEL_N)[None, ...]\n",
    "dummy_input = torch.from_numpy(seed.astype(np.float32)).to(\"cpu\")\n",
    "\n",
    "model.eval()\n",
    "\n",
    "torch.onnx.export(model,         # model being run \n",
    "    dummy_input,       # model input (or a tuple for multiple inputs) \n",
    "    \"./models/GrowingNeuralCellularAutomata.onnx\",       # where to save the model  \n",
    "    export_params=True,  # store the trained parameter weights inside the model file \n",
    "    opset_version=10,    # the ONNX version to export the model to \n",
    "    do_constant_folding=True,  # whether to execute constant folding for optimization \n",
    "    input_names = ['modelInput'],   # the model's input names \n",
    "    output_names = ['modelOutput'], # the model's output names \n",
    "    dynamic_axes={'modelInput' : {0 : 'batch_size'},    # variable length axes \n",
    "                        'modelOutput' : {0 : 'batch_size'}}) "
   ]
  },
  {
   "cell_type": "code",
   "execution_count": null,
   "metadata": {},
   "outputs": [],
   "source": [
    "# 1x1x28x28 のダミーデータを用意する\n",
    "#dummy_input = torch.randn(1, 1, 28, 28, device=device)\n",
    "\n",
    "target_img = load_emoji(TARGET_EMOJI)\n",
    "plt.figure(figsize=(4,4))\n",
    "plt.imshow(to_rgb(target_img))\n",
    "plt.show()\n",
    "\n",
    "p = TARGET_PADDING\n",
    "pad_target = np.pad(target_img, [(p, p), (p, p), (0, 0)])\n",
    "h, w = pad_target.shape[:2]\n",
    "pad_target = np.expand_dims(pad_target, axis=0)\n",
    "dummy_input = torch.from_numpy(pad_target.astype(np.float32)).to(device)\n",
    "\n",
    "# 学習済みモデルとダミーデータを用いてONNX形式のモデルをファイルに出力\n",
    "torch.onnx.export(ca, dummy_input, 'gnca.onnx')"
   ]
  }
 ],
 "metadata": {
  "kernelspec": {
   "display_name": "pytorch",
   "language": "python",
   "name": "python3"
  },
  "language_info": {
   "codemirror_mode": {
    "name": "ipython",
    "version": 3
   },
   "file_extension": ".py",
   "mimetype": "text/x-python",
   "name": "python",
   "nbconvert_exporter": "python",
   "pygments_lexer": "ipython3",
   "version": "3.12.7"
  },
  "orig_nbformat": 4
 },
 "nbformat": 4,
 "nbformat_minor": 2
}
